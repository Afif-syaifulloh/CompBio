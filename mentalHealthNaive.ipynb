{
 "cells": [
  {
   "cell_type": "code",
   "execution_count": 21,
   "id": "9ee83bfd",
   "metadata": {},
   "outputs": [
    {
     "name": "stdout",
     "output_type": "stream",
     "text": [
      "Data Training Result\n",
      "              precision    recall  f1-score   support\n",
      "\n",
      "           0       0.97      0.47      0.63       566\n",
      "           1       0.60      1.00      0.74       933\n",
      "           2       1.00      0.39      0.56       554\n",
      "\n",
      "    accuracy                           0.69      2053\n",
      "   macro avg       0.86      0.62      0.65      2053\n",
      "weighted avg       0.81      0.69      0.67      2053\n",
      "\n",
      "Data Validation Result\n",
      "              precision    recall  f1-score   support\n",
      "\n",
      "           0       0.64      0.11      0.19       248\n",
      "           1       0.45      0.95      0.61       388\n",
      "           2       0.65      0.07      0.13       245\n",
      "\n",
      "    accuracy                           0.47       881\n",
      "   macro avg       0.58      0.38      0.31       881\n",
      "weighted avg       0.56      0.47      0.36       881\n",
      "\n"
     ]
    }
   ],
   "source": [
    "import pandas as pd\n",
    "from sklearn.model_selection import train_test_split\n",
    "from sklearn.feature_extraction.text import TfidfVectorizer\n",
    "from sklearn.naive_bayes import MultinomialNB\n",
    "from sklearn.metrics import classification_report, accuracy_score\n",
    "\n",
    "df = pd.read_excel(\"clean_data.xlsx\")\n",
    "df = df.rename(columns={\"text \": \"text\"})\n",
    "df.dropna(subset=[\"text\", \"label\"], inplace=True)\n",
    "\n",
    "x_text = df[\"text\"]\n",
    "y_label = df[\"label\"]\n",
    "\n",
    "tfidf = TfidfVectorizer(stop_words=\"english\", max_features=5000)\n",
    "x = tfidf.fit_transform(x_text)\n",
    "\n",
    "x_train, x_test, y_train_label, y_test_label = train_test_split(x, y, test_size=0.3, random_state=42)\n",
    "\n",
    "model = MultinomialNB()\n",
    "model.fit(x_train, y_train_label)\n",
    "\n",
    "y_train_pred = model.predict(x_train)\n",
    "print(\"Data Training Result\")\n",
    "print(classification_report(y_train, y_train_pred))\n",
    "\n",
    "y_test_pred = model.predict(x_test)\n",
    "print(\"Data Validation Result\")\n",
    "print(classification_report(y_test, y_test_pred))"
   ]
  }
 ],
 "metadata": {
  "kernelspec": {
   "display_name": "Python 3",
   "language": "python",
   "name": "python3"
  },
  "language_info": {
   "codemirror_mode": {
    "name": "ipython",
    "version": 3
   },
   "file_extension": ".py",
   "mimetype": "text/x-python",
   "name": "python",
   "nbconvert_exporter": "python",
   "pygments_lexer": "ipython3",
   "version": "3.7.6"
  }
 },
 "nbformat": 4,
 "nbformat_minor": 5
}
